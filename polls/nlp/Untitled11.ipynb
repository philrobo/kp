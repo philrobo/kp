{
 "cells": [
  {
   "cell_type": "code",
   "execution_count": 9,
   "metadata": {},
   "outputs": [],
   "source": [
    "import time \n",
    "import requests\n",
    "import cv2\n",
    "import operator\n",
    "import numpy as np\n",
    "\n",
    "# Import library to display results\n",
    "import matplotlib.pyplot as plt\n",
    "from matplotlib.lines import Line2D\n",
    "%matplotlib inline \n",
    "# Display images within Jupyter"
   ]
  },
  {
   "cell_type": "code",
   "execution_count": 10,
   "metadata": {},
   "outputs": [],
   "source": [
    "# Variables\n",
    "\n",
    "_url = 'https://westcentralus.api.cognitive.microsoft.com/vision/v1.0/RecognizeText'\n",
    "_key = None  #Here you have to paste your primary key\n",
    "_maxNumRetries = 10"
   ]
  },
  {
   "cell_type": "code",
   "execution_count": 11,
   "metadata": {},
   "outputs": [],
   "source": [
    "def processRequest( json, data, headers, params ):\n",
    "\n",
    "    \"\"\"\n",
    "    Helper function to process the request to Project Oxford\n",
    "\n",
    "    Parameters:\n",
    "    json: Used when processing images from its URL. See API Documentation\n",
    "    data: Used when processing image read from disk. See API Documentation\n",
    "    headers: Used to pass the key information and the data type request\n",
    "    \"\"\"\n",
    "\n",
    "    retries = 0\n",
    "    result = None\n",
    "\n",
    "    while True:\n",
    "        response = requests.request( 'post', _url, json = json, data = data, headers = headers, params = params )\n",
    "\n",
    "        if response.status_code == 429:\n",
    "            print( \"Message: %s\" % ( response.json() ) )\n",
    "            if retries <= _maxNumRetries: \n",
    "                time.sleep(1) \n",
    "                retries += 1\n",
    "                continue\n",
    "            else: \n",
    "                print( 'Error: failed after retrying!' )\n",
    "                break\n",
    "        elif response.status_code == 202:\n",
    "            result = response.headers['Operation-Location']\n",
    "        else:\n",
    "            print( \"Error code: %d\" % ( response.status_code ) )\n",
    "            print( \"Message: %s\" % ( response.json() ) )\n",
    "        break\n",
    "        \n",
    "    return result"
   ]
  },
  {
   "cell_type": "code",
   "execution_count": 12,
   "metadata": {
    "collapsed": true
   },
   "outputs": [],
   "source": [
    "def getOCRTextResult( operationLocation, headers ):\n",
    "    \"\"\"\n",
    "    Helper function to get text result from operation location\n",
    "\n",
    "    Parameters:\n",
    "    operationLocation: operationLocation to get text result, See API Documentation\n",
    "    headers: Used to pass the key information\n",
    "    \"\"\"\n",
    "\n",
    "    retries = 0\n",
    "    result = None\n",
    "\n",
    "    while True:\n",
    "        response = requests.request('get', operationLocation, json=None, data=None, headers=headers, params=None)\n",
    "        if response.status_code == 429:\n",
    "            print(\"Message: %s\" % (response.json()))\n",
    "            if retries <= _maxNumRetries:\n",
    "                time.sleep(1)\n",
    "                retries += 1\n",
    "                continue\n",
    "            else:\n",
    "                print('Error: failed after retrying!')\n",
    "                break\n",
    "        elif response.status_code == 200:\n",
    "            result = response.json()\n",
    "        else:\n",
    "            print(\"Error code: %d\" % (response.status_code))\n",
    "            print(\"Message: %s\" % (response.json()))\n",
    "        break\n",
    "\n",
    "    return result"
   ]
  },
  {
   "cell_type": "code",
   "execution_count": 14,
   "metadata": {},
   "outputs": [
    {
     "name": "stdout",
     "output_type": "stream",
     "text": [
      "Error code: 401\n",
      "Message: {'message': 'Access denied due to missing subscription key. Make sure to include subscription key when making requests to an API.', 'statusCode': 401}\n"
     ]
    }
   ],
   "source": [
    "# Load raw image file into memory\n",
    "pathToFileInDisk = '/Users/harishankar/Downloads/test.jpeg'\n",
    "with open(pathToFileInDisk, 'rb') as f:\n",
    "    data = f.read()\n",
    "\n",
    "# Computer Vision parameters\n",
    "params = {'handwriting' : 'true'}\n",
    "\n",
    "headers = dict()\n",
    "headers['Ocp-Apim-Subscription-Key'] = _key\n",
    "headers['Content-Type'] = 'application/octet-stream'\n",
    "\n",
    "json = None\n",
    "\n",
    "operationLocation = processRequest(json, data, headers, params)\n",
    "\n",
    "result = None\n",
    "if (operationLocation != None):\n",
    "    headers = {}\n",
    "    headers['Ocp-Apim-Subscription-Key'] = _key\n",
    "    while True:\n",
    "        time.sleep(1)\n",
    "        result = getOCRTextResult(operationLocation, headers)\n",
    "        if result['status'] == 'Succeeded' or result['status'] == 'Failed':\n",
    "            break\n",
    "\n",
    "# Load the original image, fetched from the URL\n",
    "if result is not None and result['status'] == 'Succeeded':\n",
    "    data8uint = np.fromstring(data, np.uint8)  # Convert string to an unsigned int array\n",
    "    img = cv2.cvtColor(cv2.imdecode(data8uint, cv2.IMREAD_COLOR), cv2.COLOR_BGR2RGB)\n",
    "    showResultOnImage(result, img)"
   ]
  },
  {
   "cell_type": "code",
   "execution_count": null,
   "metadata": {
    "collapsed": true
   },
   "outputs": [],
   "source": []
  },
  {
   "cell_type": "code",
   "execution_count": null,
   "metadata": {
    "collapsed": true
   },
   "outputs": [],
   "source": []
  }
 ],
 "metadata": {
  "kernelspec": {
   "display_name": "Python 3",
   "language": "python",
   "name": "python3"
  },
  "language_info": {
   "codemirror_mode": {
    "name": "ipython",
    "version": 3
   },
   "file_extension": ".py",
   "mimetype": "text/x-python",
   "name": "python",
   "nbconvert_exporter": "python",
   "pygments_lexer": "ipython3",
   "version": "3.5.4"
  }
 },
 "nbformat": 4,
 "nbformat_minor": 2
}
